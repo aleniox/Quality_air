{
 "cells": [
  {
   "cell_type": "code",
   "execution_count": 3,
   "id": "f9c5e870",
   "metadata": {},
   "outputs": [
    {
     "name": "stdout",
     "output_type": "stream",
     "text": [
      "Giá trị dự đoán tại [10  4]: 4.48\n"
     ]
    }
   ],
   "source": [
    "import numpy as np\n",
    "\n",
    "# Tọa độ 3 điểm và giá trị tương ứng\n",
    "points = np.array([[1, 2], [3, 5], [7, 6]])  # [x,y]\n",
    "values = np.array([5, 7, 3])  # giá trị tại mỗi điểm\n",
    "\n",
    "# Điểm cần dự đoán\n",
    "target_point = np.array([10, 4])\n",
    "\n",
    "# Tính khoảng cách từ điểm target đến các điểm đã biết\n",
    "distances = np.sqrt(np.sum((points - target_point)**2, axis=1))\n",
    "\n",
    "# Tránh chia cho 0 nếu target trùng với điểm đã biết\n",
    "distances = np.where(distances == 0, 1e-10, distances)\n",
    "\n",
    "# Tính trọng số (nghịch đảo khoảng cách)\n",
    "weights = 1 / distances\n",
    "\n",
    "# Dự đoán giá trị\n",
    "predicted_value = np.sum(values * weights) / np.sum(weights)\n",
    "\n",
    "print(f\"Giá trị dự đoán tại {target_point}: {predicted_value:.2f}\")"
   ]
  },
  {
   "cell_type": "code",
   "execution_count": 28,
   "id": "80a8df31",
   "metadata": {},
   "outputs": [],
   "source": [
    "import pandas as pd\n",
    "\n",
    "# Đọc file CSV\n",
    "data = pd.read_csv('Danh sách trạm_20200413_222423.csv')  # Thay 'du_lieu.csv' bằng tên file của bạn\n",
    "\n",
    "# Xem 5 dòng đầu tiên\n",
    "# print(data.head())\n",
    "data_new = data[['Kinh độ', 'Vĩ độ', 'Tên trạm']]"
   ]
  },
  {
   "cell_type": "code",
   "execution_count": null,
   "id": "004da611",
   "metadata": {},
   "outputs": [],
   "source": [
    "\n",
    "# Đọc file Excel\n",
    "\n",
    "\n",
    "# Lấy dữ liệu từ các cột cụ thể\n",
    "selected_data = data[['Tên trạm', 'Kinh độ', 'Vĩ độ']]\n",
    "print(selected_data)"
   ]
  },
  {
   "cell_type": "code",
   "execution_count": 31,
   "id": "77d4c079",
   "metadata": {},
   "outputs": [
    {
     "name": "stdout",
     "output_type": "stream",
     "text": [
      "AQI dự đoán: 62.5\n"
     ]
    }
   ],
   "source": [
    "from scipy.interpolate import Rbf\n",
    "import numpy as np\n",
    "\n",
    "known_points = data_new[[\"Kinh độ\", \"Vĩ độ\"]][:50].values\n",
    "known_aqi = data[\"PM-2-5(µg/Nm3}\"][:50].values\n",
    "\n",
    "# Hàm nội suy IDW\n",
    "def idw_interpolation(target_lon, target_lat, power=2):\n",
    "    distances = np.sqrt((known_points[:,0] - target_lon)**2 + (known_points[:,1] - target_lat)**2)\n",
    "    weights = 1 / (distances ** power)\n",
    "    weights[distances == 0] = 1e10  # Tránh chia 0 nếu trùng vị trí\n",
    "    return np.sum(known_aqi * weights) / np.sum(weights)\n",
    "\n",
    "# Ví dụ: Tính AQI tại một điểm mới (105.8, 21.2)\n",
    "target_aqi = idw_interpolation(105.8, 21.2)\n",
    "print(f\"AQI dự đoán: {target_aqi:.1f}\")"
   ]
  },
  {
   "cell_type": "code",
   "execution_count": null,
   "id": "5c863be7",
   "metadata": {},
   "outputs": [],
   "source": [
    "data = {\n",
    "    \"Khu liên cơ quan tỉnh Bắc Giang\": [21.281157, 106.201736],\n",
    "    \"Huyện Tuy Phước\": [13.856610, 109.164213],\n",
    "    \"Khuôn viên cây xanh cầu chui\": [13.787129, 109.215741],\n",
    "    \"Số 593 Đại lộ Bình Dương\": [10.997342, 106.648577],\n",
    "    \"Phường đề thám\": [22.680377, 106.210631],\n",
    "    \"Phường sông hiến\": [22.663080, 106.231711],\n",
    "    \"41 đường Lê Duẩn\": [16.071238, 108.219467],\n",
    "    \"Đại học sư phạm Đà Nẵng\": [16.061616, 108.159076],\n",
    "    \"Phạm hùng ĐN\": [15.993340, 108.207447],\n",
    "    \"Sơn Trà Ngũ hành Sơn\": \n",
    "    \n",
    "}"
   ]
  },
  {
   "cell_type": "code",
   "execution_count": 29,
   "id": "f487b5d2",
   "metadata": {},
   "outputs": [
    {
     "name": "stdout",
     "output_type": "stream",
     "text": [
      "Bình Dương_ số 593 Đại lộ Bình Dương  P. Hiệp Thành (KK)_20250506_101254.xlsx\n"
     ]
    },
    {
     "name": "stderr",
     "output_type": "stream",
     "text": [
      "d:\\Program\\miniconda\\envs\\forecast\\lib\\site-packages\\openpyxl\\styles\\stylesheet.py:232: UserWarning: Workbook contains no stylesheet, using openpyxl's defaults\n",
      "  warn(\"Workbook contains no stylesheet, using openpyxl's defaults\")\n"
     ]
    },
    {
     "name": "stdout",
     "output_type": "stream",
     "text": [
      "0       125.8175\n",
      "1       122.7142\n",
      "2       111.0983\n",
      "3        87.4533\n",
      "4        70.1417\n",
      "          ...   \n",
      "2482     16.5183\n",
      "2483     24.5683\n",
      "2484     35.3950\n",
      "2485     39.8650\n",
      "2486     41.6458\n",
      "Name: PM-2-5(µg/Nm3}, Length: 2487, dtype: float64\n"
     ]
    }
   ],
   "source": [
    "import os\n",
    "import pandas as pd\n",
    "\n",
    "data = []\n",
    "path_folder = \"So lieu TB 1h T11.2024-T3.2025\"\n",
    "for name_file in os.listdir(path_folder):\n",
    "    print(name_file)\n",
    "    data = pd.read_excel(f\"{path_folder}/{name_file}\", engine='openpyxl')  # engine='openpyxl' là bắt buộc cho .xlsx\n",
    "    print(data['PM-2-5(µg/Nm3}'])\n",
    "    # print(data.head())\n",
    "    break\n"
   ]
  }
 ],
 "metadata": {
  "kernelspec": {
   "display_name": "forecast",
   "language": "python",
   "name": "python3"
  },
  "language_info": {
   "codemirror_mode": {
    "name": "ipython",
    "version": 3
   },
   "file_extension": ".py",
   "mimetype": "text/x-python",
   "name": "python",
   "nbconvert_exporter": "python",
   "pygments_lexer": "ipython3",
   "version": "3.10.0"
  }
 },
 "nbformat": 4,
 "nbformat_minor": 5
}
