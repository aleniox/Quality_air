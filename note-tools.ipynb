{
 "cells": [
  {
   "cell_type": "code",
   "execution_count": 3,
   "id": "f9c5e870",
   "metadata": {},
   "outputs": [
    {
     "name": "stdout",
     "output_type": "stream",
     "text": [
      "Giá trị dự đoán tại [10  4]: 4.48\n"
     ]
    }
   ],
   "source": [
    "import numpy as np\n",
    "\n",
    "# Tọa độ 3 điểm và giá trị tương ứng\n",
    "points = np.array([[1, 2], [3, 5], [7, 6]])  # [x,y]\n",
    "values = np.array([5, 7, 3])  # giá trị tại mỗi điểm\n",
    "\n",
    "# Điểm cần dự đoán\n",
    "target_point = np.array([10, 4])\n",
    "\n",
    "# Tính khoảng cách từ điểm target đến các điểm đã biết\n",
    "distances = np.sqrt(np.sum((points - target_point)**2, axis=1))\n",
    "\n",
    "# Tránh chia cho 0 nếu target trùng với điểm đã biết\n",
    "distances = np.where(distances == 0, 1e-10, distances)\n",
    "\n",
    "# Tính trọng số (nghịch đảo khoảng cách)\n",
    "weights = 1 / distances\n",
    "\n",
    "# Dự đoán giá trị\n",
    "predicted_value = np.sum(values * weights) / np.sum(weights)\n",
    "\n",
    "print(f\"Giá trị dự đoán tại {target_point}: {predicted_value:.2f}\")"
   ]
  },
  {
   "cell_type": "code",
   "execution_count": 28,
   "id": "80a8df31",
   "metadata": {},
   "outputs": [],
   "source": [
    "import pandas as pd\n",
    "\n",
    "# Đọc file CSV\n",
    "data = pd.read_csv('Danh sách trạm_20200413_222423.csv')  # Thay 'du_lieu.csv' bằng tên file của bạn\n",
    "\n",
    "# Xem 5 dòng đầu tiên\n",
    "# print(data.head())\n",
    "data_new = data[['Kinh độ', 'Vĩ độ', 'Tên trạm']]"
   ]
  },
  {
   "cell_type": "code",
   "execution_count": null,
   "id": "004da611",
   "metadata": {},
   "outputs": [],
   "source": [
    "\n",
    "# Đọc file Excel\n",
    "\n",
    "\n",
    "# Lấy dữ liệu từ các cột cụ thể\n",
    "selected_data = data[['Tên trạm', 'Kinh độ', 'Vĩ độ']]\n",
    "print(selected_data)"
   ]
  },
  {
   "cell_type": "code",
   "execution_count": 31,
   "id": "77d4c079",
   "metadata": {},
   "outputs": [
    {
     "name": "stdout",
     "output_type": "stream",
     "text": [
      "AQI dự đoán: 62.5\n"
     ]
    }
   ],
   "source": [
    "from scipy.interpolate import Rbf\n",
    "import numpy as np\n",
    "\n",
    "known_points = data_new[[\"Kinh độ\", \"Vĩ độ\"]][:50].values\n",
    "known_aqi = data[\"PM-2-5(µg/Nm3}\"][:50].values\n",
    "\n",
    "# Hàm nội suy IDW\n",
    "def idw_interpolation(target_lon, target_lat, power=2):\n",
    "    distances = np.sqrt((known_points[:,0] - target_lon)**2 + (known_points[:,1] - target_lat)**2)\n",
    "    weights = 1 / (distances ** power)\n",
    "    weights[distances == 0] = 1e10  # Tránh chia 0 nếu trùng vị trí\n",
    "    return np.sum(known_aqi * weights) / np.sum(weights)\n",
    "\n",
    "# Ví dụ: Tính AQI tại một điểm mới (105.8, 21.2)\n",
    "target_aqi = idw_interpolation(105.8, 21.2)\n",
    "print(f\"AQI dự đoán: {target_aqi:.1f}\")"
   ]
  },
  {
   "cell_type": "code",
   "execution_count": null,
   "id": "5c863be7",
   "metadata": {},
   "outputs": [],
   "source": [
    "data = {\n",
<<<<<<< HEAD
    "    \"Khu liên cơ quan tỉnh Bắc Giang\": [21.281157, 106.201736],\n",
    "    \"Huyện Tuy Phước\": [13.856610, 109.164213],\n",
    "    \"Khuôn viên cây xanh cầu chui\": [13.787129, 109.215741],\n",
    "    \"Số 593 Đại lộ Bình Dương\": [10.997342, 106.648577],\n",
    "    \"Phường đề thám\": [22.680377, 106.210631],\n",
    "    \"Phường sông hiến\": [22.663080, 106.231711],\n",
    "    \"41 đường Lê Duẩn\": [16.071238, 108.219467],\n",
    "    \"Đại học sư phạm Đà Nẵng\": [16.061616, 108.159076],\n",
    "    \"Phạm hùng ĐN\": [15.993340, 108.207447],\n",
    "    \"Sơn Trà Ngũ hành Sơn\": \n",
=======
    "    \"Bắc Giang_ Khu liên cơ quan tỉnh Bắc Giang - P. Ngô Quyền - TP. Bắc Giang\": [21.281157, 106.201736],\n",
    "    \"Bình Định_ huyện Tuy Phước\": [13.856610, 109.164213],\n",
    "    \"Bình Định_ Khuôn viên Cây xanh gần cầu chui đường Hoa Lư - TP. Quy Nhơn\": [13.787129, 109.215741],\n",
    "    \"Bình Dương_ số 593 Đại lộ Bình Dương  P. Hiệp Thành\": [10.997342, 106.648577],\n",
    "    \"Cao Bằng_ Phường Đề Thám   TP. Cao Bằng\": [22.680377, 106.210631],\n",
    "    \"Cao Bằng_ TTQMT - phường Sông Hiến\": [22.663080, 106.231711],\n",
    "    \"Đà Nẵng_ 41 đường Lê Duẩn\": [16.071238, 108.219467],\n",
    "    \"Đà Nẵng_ Khuôn viên trường ĐH sư phạm Đà Nẵng\": [16.061616, 108.159076],\n",
    "    \"Đà Nẵng_ Phạm Hùng\": [15.993340, 108.207447],\n",
    "    \"Đà Nẵng_ Sơn Trà  Ngũ Hành Sơn\": [16.003714, 108.263151],\n",
    "    \"Gia Lai_ BQL KCN Trà Đa - Tp Pleiku \": [14.019337, 108.031749],\n",
    "    \"Gia lai_ Chư Sê\": [13.714100, 108.066418],\n",
    "    \"Gia Lai_ TTQT TN&MT - P.Thống Nhất - TP Pleiku\": [13.973233, 107.998157],\n",
    "    \"Gia Lai_ UBND thị xã An Khê\": [13.953118, 108.656818],\n",
    "    \"Hà Nam_ Công Viên Nam Cao - P.Quang Trung - TP. Phủ Lý\": [20.545756, 105.913503],\n",
    "    \"Hà Nội_ 556 Nguyễn Văn Cừ\": [21.048730, 105.882471],\n",
    "    \"Hà Nội_ Công viên Nhân Chính - Khuất Duy Tiến\": [21.002766, 105.797385],\n",
    "    \"Hà Nội_ ĐHBK cổng Parabol đường Giải Phóng\": [21.005054, 105.841675],\n",
    "    \"Hà Nội_ Khu vực Lăng Bác \": [21.036731, 105.834704],\n",
    "    \"Hải Dương_ UBND TP. Hải Dương - 106 Đường Trần Hưng Đạo\": [20.938148, 106.336476],\n",
    "    \"HCM_ Đ. Lê Hữu Kiều - P. Bình Trưng Tây - Quận 2 (Ngã ba Lê Hữu Kiểu và Trương Văn Bang\": [10.783304, 106.752102],\n",
    "    \"HCM_ Khu Liên cơ quan Bộ Tài Nguyên và Môi Trường - số 20 Đ. Lý Chính Thắng\": [10.782258, 106.683486],\n",
    "    \"Hưng Yên_ số 437 Nguyễn Văn Linh - Tp Hưng Yên\": [20.661785, 106.058407],\n",
    "    \"Khánh Hòa_  Trạm không khí xung quanh Ninh An\": [12.564347, 109.155240],\n",
    "    \"Khánh Hòa_ phường Vĩnh Hòa - Nha Trang\": [12.298436, 109.209487],\n",
    "    \"Lâm Đồng_ Vườn hoa - đối diện THCS Lam Sơn - Phường 6 - TP Đà Lạt\": [11.950191, 108.449910],\n",
    "    \"Lạng Sơn_ Đông Tân - Hữu Lũng\": [21.530391, 106.363766],\n",
    "    \"Lạng Sơn_ xã Hồng Phong - Cao Lộc\": [21.92698425708097, 106.67072321030116],\n",
    "    \"Long An_ UBND Tp Tân An - 76 Hùng Vương - P.2\": [10.538870347238994, 106.40436138542212],\n",
    "    \"Ninh Thuận_ Công viên (bến xe cũ) - Đ. Thống Nhất - P. Thanh Sơn - TP Phan Rang\": [11.57432077633915, 108.9916348174917],\n",
    "    \"Phú Thọ_ đường Hùng Vương - Tp Việt Trì\": [21.373064290983997, 105.34136208557706],\n",
>>>>>>> 6c278aa2e2685cc004da5580590496ee3b98e053
    "    \n",
    "    \"Quảng Bình_ Khu kinh tế Hòn La\": [17.954712757753764, 106.504983894801],\n",
    "    \"Quảng Nam_ Tiếp giáp Đ. Hùng Vương - KDC Đ. Hồ Xuân Hương\": [15.58733251331769, 108.49114571230324],\n",
    "    \"Quảng Ngãi_ UBND P. Nguyễn Nghiêm - TP Quảng Ngãi\": [15.14119051190871, 108.79939048711188],\n",
    "    \"Quảng Ngãi_ UBND P. Nguyễn Nghiêm - TP Quảng Ngãi\": [15.122418919236212, 108.80027264597365],\n",
    "    \"Quảng Ninh_ Km11 - Minh Thành\": [21.01989025867557, 106.85143264435085],\n",
    "    \"Quảng Ninh_ Nhà máy tuyển than Nam Cầu Trắng - Hạ Long\": [20.95725916805329, 107.12923634683354],\n",
    "    \"Quảng Ninh_ Nhà văn hóa Yên Mỹ  xã Lê Lợi - Tp Hạ Long \": [20.946162423982845, 106.80131064489727],\n",
    "    \"Quảng Ninh_ Nhuệ Hổ - Đông Triều\": [21.090460221058205, 106.55225715231316],\n",
    "    \"Quảng Ninh_ UBND TP Uông Bí\": [21.047128855784653, 106.76401641780717],\n",
    "    \"Tây Ninh_ Thị xã Trảng Bàng\": [11.103051023399988, 106.37002816153138],\n",
    "    \"Thái Bình_ Cầu Thái Bình - Đ. Trần Thái Tông - P. Bồ Xuyên - TP Thái Bình\": [20.453461817002513, 106.33917763320316],\n",
    "    \"Thái Nguyên_ Chợ tổ 7 - 8 P Mỏ Chè - TP Sông Công\": [21.475583722333706, 105.84440435007424],\n",
    "    \"Thái nguyên_ Đường Hùng Vương - Tp Thái Nguyên\": [21.595882163215716, 105.8438805189105],\n",
    "    \"Thái Nguyên_ Sân vận động Gang thép - P Trung Thành - TP Thái Nguyên\": [21.53921758920249, 105.87206418244617],\n",
    "    \"Thái Nguyên_ Tổ 7 - Quan Triều - TP Thái Nguyên\": [21.58175774433606, 105.81495996333075],\n",
    "    \"Thanh Hoá_ UBND P. Lam Sơn  TX. Bỉm Sơn\": [20.076351404264194, 105.8908933493451],\n",
    "    \"Thừa Thiên Huế_ 83 đường Hùng Vương\": [16.57069210023765, 107.58904036545017],\n",
    "    \"Trà Vinh_ Tp. Trà Vinh\": [10.30219789286043, 106.28602362797926],\n",
    "    \"Trà Vinh_ xã Dân Thành  TX Duyên Hải\": [9.834579655459574, 106.4837318245401],\n",
    "    \"Trà Vinh_ xã Đông Hải  huyện Duyên Hải \": [9.847489130533111, 106.41780547414956],\n",
    "    \"Vĩnh Long_ Khu hành chính Tx.Bình Minh\": [10.48481147215296, 105.82461868577303],\n",
    "    \"Vĩnh Long_ UBND tỉnh  đường Hoàng Thái Hiếu\": [10.62087878304751, 105.93450807937366],\n",
    "    \"Vũng Tàu_ Đ. Huyền Trân Công Chúa - Phường 8 - TP Vũng Tàu\": [10.718523716902757, 107.121046929018],\n",
    "    \"Vũng Tàu_ Ngã tư Giếng nước - Tp.Vũng Tàu\": [10.742368515382786, 107.16499899318077],\n",
    "    \"Vũng Tàu_ Ngã tư Phan Đăng Lưu và 27_4 - Tp.Bà Rịa\": [10.874856149648686, 107.14303943215671],\n",
    "    \"Vũng Tàu_ Tiểu học Tóc Tiên - TX.Phú Mỹ\": [11.029696049429493, 107.20897077244157],\n",
    "}"
   ]
  },
  {
   "cell_type": "code",
   "execution_count": 29,
   "id": "f487b5d2",
   "metadata": {},
   "outputs": [
    {
     "name": "stdout",
     "output_type": "stream",
     "text": [
      "Bình Dương_ số 593 Đại lộ Bình Dương  P. Hiệp Thành (KK)_20250506_101254.xlsx\n"
     ]
    },
    {
     "name": "stderr",
     "output_type": "stream",
     "text": [
      "d:\\Program\\miniconda\\envs\\forecast\\lib\\site-packages\\openpyxl\\styles\\stylesheet.py:232: UserWarning: Workbook contains no stylesheet, using openpyxl's defaults\n",
      "  warn(\"Workbook contains no stylesheet, using openpyxl's defaults\")\n"
     ]
    },
    {
     "name": "stdout",
     "output_type": "stream",
     "text": [
      "0       125.8175\n",
      "1       122.7142\n",
      "2       111.0983\n",
      "3        87.4533\n",
      "4        70.1417\n",
      "          ...   \n",
      "2482     16.5183\n",
      "2483     24.5683\n",
      "2484     35.3950\n",
      "2485     39.8650\n",
      "2486     41.6458\n",
      "Name: PM-2-5(µg/Nm3}, Length: 2487, dtype: float64\n"
     ]
    }
   ],
   "source": [
    "import os\n",
    "import pandas as pd\n",
    "\n",
    "data = []\n",
    "path_folder = \"So lieu TB 1h T11.2024-T3.2025\"\n",
    "for name_file in os.listdir(path_folder):\n",
    "    print(name_file)\n",
    "    data = pd.read_excel(f\"{path_folder}/{name_file}\", engine='openpyxl')  # engine='openpyxl' là bắt buộc cho .xlsx\n",
    "    print(data['PM-2-5(µg/Nm3}'])\n",
    "    # print(data.head())\n",
    "    break\n"
   ]
  }
 ],
 "metadata": {
  "kernelspec": {
   "display_name": "forecast",
   "language": "python",
   "name": "python3"
  },
  "language_info": {
   "codemirror_mode": {
    "name": "ipython",
    "version": 3
   },
   "file_extension": ".py",
   "mimetype": "text/x-python",
   "name": "python",
   "nbconvert_exporter": "python",
   "pygments_lexer": "ipython3",
   "version": "3.10.0"
  }
 },
 "nbformat": 4,
 "nbformat_minor": 5
}
